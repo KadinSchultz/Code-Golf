{
 "cells": [
  {
   "cell_type": "markdown",
   "id": "dd487b19",
   "metadata": {},
   "source": [
    "### Description\n",
    "    Problem: Number Spiral\n",
    "    Link: https://code.golf/number-spiral#python\n",
    "    Solution characters: 257"
   ]
  },
  {
   "cell_type": "markdown",
   "id": "b0eb836b",
   "metadata": {},
   "source": [
    "### Variables used\n",
    "    n = matrix length & width\n",
    "    m = output matrix\n",
    "    v = current value\n",
    "    l = current location\n",
    "    d = current direction\n",
    "    s = string length"
   ]
  },
  {
   "cell_type": "code",
   "execution_count": 1,
   "id": "d7fa085f",
   "metadata": {},
   "outputs": [
    {
     "name": "stdout",
     "output_type": "stream",
     "text": [
      " 0  1  2  3  4  5  6  7  8  9\n",
      "35 36 37 38 39 40 41 42 43 10\n",
      "34 63 64 65 66 67 68 69 44 11\n",
      "33 62 83 84 85 86 87 70 45 12\n",
      "32 61 82 95 96 97 88 71 46 13\n",
      "31 60 81 94 99 98 89 72 47 14\n",
      "30 59 80 93 92 91 90 73 48 15\n",
      "29 58 79 78 77 76 75 74 49 16\n",
      "28 57 56 55 54 53 52 51 50 17\n",
      "27 26 25 24 23 22 21 20 19 18\n"
     ]
    }
   ],
   "source": [
    "r=range\n",
    "n,m,v,l,d=10,{},0,(0,0),(0,1)\n",
    "def f():return(l[0]+d[0],l[1]+d[1])\n",
    "while v<n*n:\n",
    "    if set([-1,n]).intersection(f())or f() in m:d=(d[1],d[0]*-1)\n",
    "    m[l],l,v=str(v),f(),v+1\n",
    "s=len(str(n*n))-1\n",
    "for x in r(n):print(*[m[(x,y)].rjust(s,' ') for y in r(n)])"
   ]
  }
 ],
 "metadata": {
  "kernelspec": {
   "display_name": "Python 3 (ipykernel)",
   "language": "python",
   "name": "python3"
  },
  "language_info": {
   "codemirror_mode": {
    "name": "ipython",
    "version": 3
   },
   "file_extension": ".py",
   "mimetype": "text/x-python",
   "name": "python",
   "nbconvert_exporter": "python",
   "pygments_lexer": "ipython3",
   "version": "3.9.7"
  }
 },
 "nbformat": 4,
 "nbformat_minor": 5
}
