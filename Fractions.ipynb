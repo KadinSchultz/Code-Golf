{
 "cells": [
  {
   "cell_type": "markdown",
   "id": "dd487b19",
   "metadata": {},
   "source": [
    "### Description\n",
    "    Problem: Fractions\n",
    "    Link: https://code.golf/fractions#python\n",
    "    Solution characters: 103"
   ]
  },
  {
   "cell_type": "markdown",
   "id": "1540c561",
   "metadata": {},
   "source": [
    "### Notes\n",
    "    This script is set-up to use arguments provided by the Code Golf terminal, thus I can't illustrate outputs below"
   ]
  },
  {
   "cell_type": "code",
   "execution_count": null,
   "id": "d7fa085f",
   "metadata": {
    "scrolled": true
   },
   "outputs": [],
   "source": [
    "import sys\n",
    "from fractions import*\n",
    "for i in sys.argv[1:]:print('%d/%d'%(Fraction(i).as_integer_ratio()))"
   ]
  }
 ],
 "metadata": {
  "kernelspec": {
   "display_name": "Python 3 (ipykernel)",
   "language": "python",
   "name": "python3"
  },
  "language_info": {
   "codemirror_mode": {
    "name": "ipython",
    "version": 3
   },
   "file_extension": ".py",
   "mimetype": "text/x-python",
   "name": "python",
   "nbconvert_exporter": "python",
   "pygments_lexer": "ipython3",
   "version": "3.9.7"
  }
 },
 "nbformat": 4,
 "nbformat_minor": 5
}
