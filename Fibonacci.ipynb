{
 "cells": [
  {
   "cell_type": "markdown",
   "id": "dd487b19",
   "metadata": {},
   "source": [
    "### Description\n",
    "    Problem: Fibonacci\n",
    "    Link: https://code.golf/fibonacci#python\n",
    "    Solution characters: 52"
   ]
  },
  {
   "cell_type": "markdown",
   "id": "b0eb836b",
   "metadata": {},
   "source": [
    "### Variables used\n",
    "    s = output sequence"
   ]
  },
  {
   "cell_type": "code",
   "execution_count": 1,
   "id": "d7fa085f",
   "metadata": {},
   "outputs": [
    {
     "name": "stdout",
     "output_type": "stream",
     "text": [
      "0\n",
      "1\n",
      "1\n",
      "2\n",
      "3\n",
      "5\n",
      "8\n",
      "13\n",
      "21\n",
      "34\n",
      "55\n",
      "89\n",
      "144\n",
      "233\n",
      "377\n",
      "610\n",
      "987\n",
      "1597\n",
      "2584\n",
      "4181\n",
      "6765\n",
      "10946\n",
      "17711\n",
      "28657\n",
      "46368\n",
      "75025\n",
      "121393\n",
      "196418\n",
      "317811\n",
      "514229\n",
      "832040\n"
     ]
    }
   ],
   "source": [
    "s=(0,1)\n",
    "while s[-1]<2e6:print(s[-2]);s+=s[-2]+s[-1],"
   ]
  }
 ],
 "metadata": {
  "kernelspec": {
   "display_name": "Python 3 (ipykernel)",
   "language": "python",
   "name": "python3"
  },
  "language_info": {
   "codemirror_mode": {
    "name": "ipython",
    "version": 3
   },
   "file_extension": ".py",
   "mimetype": "text/x-python",
   "name": "python",
   "nbconvert_exporter": "python",
   "pygments_lexer": "ipython3",
   "version": "3.9.7"
  }
 },
 "nbformat": 4,
 "nbformat_minor": 5
}
