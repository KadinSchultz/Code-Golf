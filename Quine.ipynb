{
 "cells": [
  {
   "cell_type": "markdown",
   "id": "dd487b19",
   "metadata": {},
   "source": [
    "### Description\n",
    "    Problem: Quine\n",
    "    Link: https://code.golf/quine#python\n",
    "    Solution characters: 32"
   ]
  },
  {
   "cell_type": "markdown",
   "id": "b0eb836b",
   "metadata": {},
   "source": [
    "### Notes\n",
    "    The blank/whitespace row after the code is required for this to run properly on the Code Golf website"
   ]
  },
  {
   "cell_type": "code",
   "execution_count": 1,
   "id": "d7fa085f",
   "metadata": {},
   "outputs": [
    {
     "name": "stdout",
     "output_type": "stream",
     "text": [
      "x='x=%r;print(x%%x)';print(x%x)\n"
     ]
    }
   ],
   "source": [
    "x='x=%r;print(x%%x)';print(x%x)"
   ]
  }
 ],
 "metadata": {
  "kernelspec": {
   "display_name": "Python 3 (ipykernel)",
   "language": "python",
   "name": "python3"
  },
  "language_info": {
   "codemirror_mode": {
    "name": "ipython",
    "version": 3
   },
   "file_extension": ".py",
   "mimetype": "text/x-python",
   "name": "python",
   "nbconvert_exporter": "python",
   "pygments_lexer": "ipython3",
   "version": "3.9.7"
  }
 },
 "nbformat": 4,
 "nbformat_minor": 5
}
