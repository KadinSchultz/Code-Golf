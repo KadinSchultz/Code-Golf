{
 "cells": [
  {
   "cell_type": "markdown",
   "id": "dd487b19",
   "metadata": {},
   "source": [
    "### Description\n",
    "    Problem: Prime Numbers\n",
    "    Link: https://code.golf/prime-numbers#python\n",
    "    Solutions characters: 62"
   ]
  },
  {
   "cell_type": "code",
   "execution_count": 1,
   "id": "d7fa085f",
   "metadata": {},
   "outputs": [
    {
     "name": "stdout",
     "output_type": "stream",
     "text": [
      "2\n",
      "3\n",
      "5\n",
      "7\n",
      "11\n",
      "13\n",
      "17\n",
      "19\n",
      "23\n",
      "29\n",
      "31\n",
      "37\n",
      "41\n",
      "43\n",
      "47\n",
      "53\n",
      "59\n",
      "61\n",
      "67\n",
      "71\n",
      "73\n",
      "79\n",
      "83\n",
      "89\n",
      "97\n"
     ]
    }
   ],
   "source": [
    "r=range(2,99)\n",
    "for x in r: sum([x%d==0 for d in r])<2==print(x)"
   ]
  }
 ],
 "metadata": {
  "kernelspec": {
   "display_name": "Python 3 (ipykernel)",
   "language": "python",
   "name": "python3"
  },
  "language_info": {
   "codemirror_mode": {
    "name": "ipython",
    "version": 3
   },
   "file_extension": ".py",
   "mimetype": "text/x-python",
   "name": "python",
   "nbconvert_exporter": "python",
   "pygments_lexer": "ipython3",
   "version": "3.9.7"
  }
 },
 "nbformat": 4,
 "nbformat_minor": 5
}
